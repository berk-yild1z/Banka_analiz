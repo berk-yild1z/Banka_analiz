{
 "cells": [
  {
   "cell_type": "code",
   "execution_count": 1,
   "metadata": {},
   "outputs": [],
   "source": [
    "from isyatirimhisse import StockData, Financials\n",
    "import pandas as pd\n",
    "import matplotlib.pyplot as plt"
   ]
  },
  {
   "cell_type": "code",
   "execution_count": 4,
   "metadata": {},
   "outputs": [
    {
     "name": "stderr",
     "output_type": "stream",
     "text": [
      "C:\\Users\\berky\\AppData\\Roaming\\Python\\Python311\\site-packages\\isyatirimhisse\\FetchStockData.py:126: FutureWarning: 'M' is deprecated and will be removed in a future version, please use 'ME' instead.\n",
      "  data_observed = data.resample('3M').last() if observation == 'last' else data.resample('3M').mean()\n",
      "C:\\Users\\berky\\AppData\\Roaming\\Python\\Python311\\site-packages\\isyatirimhisse\\FetchStockData.py:126: FutureWarning: 'M' is deprecated and will be removed in a future version, please use 'ME' instead.\n",
      "  data_observed = data.resample('3M').last() if observation == 'last' else data.resample('3M').mean()\n",
      "C:\\Users\\berky\\AppData\\Roaming\\Python\\Python311\\site-packages\\isyatirimhisse\\FetchStockData.py:126: FutureWarning: 'M' is deprecated and will be removed in a future version, please use 'ME' instead.\n",
      "  data_observed = data.resample('3M').last() if observation == 'last' else data.resample('3M').mean()\n",
      "C:\\Users\\berky\\AppData\\Roaming\\Python\\Python311\\site-packages\\isyatirimhisse\\FetchStockData.py:126: FutureWarning: 'M' is deprecated and will be removed in a future version, please use 'ME' instead.\n",
      "  data_observed = data.resample('3M').last() if observation == 'last' else data.resample('3M').mean()\n",
      "C:\\Users\\berky\\AppData\\Roaming\\Python\\Python311\\site-packages\\pandas\\core\\arraylike.py:399: RuntimeWarning: divide by zero encountered in log\n",
      "  result = getattr(ufunc, method)(*inputs, **kwargs)\n"
     ]
    },
    {
     "name": "stdout",
     "output_type": "stream",
     "text": [
      "Data saved to stockdata_20240827.xlsx\n"
     ]
    },
    {
     "name": "stderr",
     "output_type": "stream",
     "text": [
      "C:\\Users\\berky\\AppData\\Roaming\\Python\\Python311\\site-packages\\isyatirimhisse\\FetchStockData.py:126: FutureWarning: 'M' is deprecated and will be removed in a future version, please use 'ME' instead.\n",
      "  data_observed = data.resample('3M').last() if observation == 'last' else data.resample('3M').mean()\n"
     ]
    }
   ],
   "source": [
    "stock_data = StockData()\n",
    "\n",
    "df = stock_data.get_data(\n",
    "    symbols=['AKBNK','HALKB',\"ISYAT\",\"QNBFB\",\"YKBNK\"],\n",
    "    start_date='01-01-2012',\n",
    "    end_date='06-10-2023',\n",
    "    exchange='1',\n",
    "    frequency='3mo',\n",
    "    return_type='1',\n",
    "    save_to_excel=Tr\n",
    ")\n",
    "\n",
    "\n",
    "\n"
   ]
  }
 ],
 "metadata": {
  "kernelspec": {
   "display_name": "Python 3",
   "language": "python",
   "name": "python3"
  },
  "language_info": {
   "codemirror_mode": {
    "name": "ipython",
    "version": 3
   },
   "file_extension": ".py",
   "mimetype": "text/x-python",
   "name": "python",
   "nbconvert_exporter": "python",
   "pygments_lexer": "ipython3",
   "version": "3.11.3"
  }
 },
 "nbformat": 4,
 "nbformat_minor": 2
}
